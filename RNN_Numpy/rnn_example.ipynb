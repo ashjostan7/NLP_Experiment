{
 "cells": [
  {
   "cell_type": "code",
   "execution_count": 1,
   "metadata": {},
   "outputs": [],
   "source": [
    "import numpy as np\n",
    "from RNN import RNNModel\n",
    "from rnn_utils import SGD, one_hot_encoding\n"
   ]
  },
  {
   "cell_type": "code",
   "execution_count": 2,
   "metadata": {},
   "outputs": [],
   "source": [
    "np.random.seed(1)"
   ]
  },
  {
   "cell_type": "code",
   "execution_count": 3,
   "metadata": {},
   "outputs": [],
   "source": [
    "person_names = open('names.txt', 'r').read()\n",
    "person_names= person_names.lower()\n",
    "characters = list(set(person_names))\n",
    "\n",
    "character_to_index = {character:index for index,character in enumerate(sorted(characters))}\n",
    "index_to_character = {index:character for index,character in enumerate(sorted(characters))}\n",
    "\n",
    "with open(\"names.txt\") as f:\n",
    "    person_names = f.readlines()\n",
    "\n",
    "person_names = [name.lower().strip() for name in person_names]\n",
    "np.random.shuffle(person_names)"
   ]
  },
  {
   "cell_type": "code",
   "execution_count": 4,
   "metadata": {},
   "outputs": [
    {
     "name": "stdout",
     "output_type": "stream",
     "text": [
      "['alysse', 'phoebe', 'jabarri', 'alban', 'shaqwana']\n"
     ]
    }
   ],
   "source": [
    "print(person_names[:5])"
   ]
  },
  {
   "cell_type": "code",
   "execution_count": 5,
   "metadata": {},
   "outputs": [],
   "source": [
    "num_epochs = 100001\n",
    "input_dim = 27\n",
    "output_dim = 27\n",
    "hidden_dim = 50\n",
    "\n",
    "# initialize and define the model hyperparamaters\n",
    "model = RNNModel(input_dim, output_dim, hidden_dim)\n",
    "optim = SGD(lr=0.01)\n",
    "costs = []"
   ]
  },
  {
   "cell_type": "code",
   "execution_count": 6,
   "metadata": {},
   "outputs": [
    {
     "name": "stderr",
     "output_type": "stream",
     "text": [
      "  0%|          | 0/100001 [00:00<?, ?it/s]"
     ]
    },
    {
     "name": "stdout",
     "output_type": "stream",
     "text": [
      "Utils Wegiths <class 'list'>\n",
      "<class 'list'>\n",
      "Cost after iteration 0: 22.388388\n",
      "Names created: \n",
      "\n",
      "Letter X:(27, 1)\n"
     ]
    },
    {
     "name": "stderr",
     "output_type": "stream",
     "text": [
      "\n"
     ]
    },
    {
     "ename": "ValueError",
     "evalue": "setting an array element with a sequence. The requested array has an inhomogeneous shape after 1 dimensions. The detected shape was (5,) + inhomogeneous part.",
     "output_type": "error",
     "traceback": [
      "\u001b[1;31m---------------------------------------------------------------------------\u001b[0m",
      "\u001b[1;31mValueError\u001b[0m                                Traceback (most recent call last)",
      "Cell \u001b[1;32mIn[6], line 31\u001b[0m\n\u001b[0;32m     29\u001b[0m \u001b[39mprint\u001b[39m(\u001b[39m'\u001b[39m\u001b[39mNames created:\u001b[39m\u001b[39m'\u001b[39m, \u001b[39m'\u001b[39m\u001b[39m\\n\u001b[39;00m\u001b[39m'\u001b[39m)\n\u001b[0;32m     30\u001b[0m \u001b[39mfor\u001b[39;00m i \u001b[39min\u001b[39;00m \u001b[39mrange\u001b[39m(\u001b[39m4\u001b[39m):\n\u001b[1;32m---> 31\u001b[0m     name \u001b[39m=\u001b[39m model\u001b[39m.\u001b[39;49mgenerate_names(index_to_character)\n\u001b[0;32m     32\u001b[0m     \u001b[39mprint\u001b[39m(name)\n",
      "File \u001b[1;32md:\\RNNs\\rnn_names\\RNN.py:146\u001b[0m, in \u001b[0;36mRNNModel.generate_names\u001b[1;34m(self, index_to_character)\u001b[0m\n\u001b[0;32m    139\u001b[0m \u001b[39m# print(f'Letter X:{type(letter_x)}')\u001b[39;00m\n\u001b[0;32m    140\u001b[0m \u001b[39m# print(f'Wax: {type(self.Wax)}')\u001b[39;00m\n\u001b[0;32m    141\u001b[0m \u001b[39m# print(f'Waa: {type(self.Waa)}')\u001b[39;00m\n\u001b[0;32m    142\u001b[0m \u001b[39m# print(f'Way: {type(self.Way)}')\u001b[39;00m\n\u001b[0;32m    143\u001b[0m \u001b[39m# print(f'Hidden: {type(hidden)}')\u001b[39;00m\n\u001b[0;32m    145\u001b[0m \u001b[39mprint\u001b[39m(\u001b[39mf\u001b[39m\u001b[39m'\u001b[39m\u001b[39mLetter X:\u001b[39m\u001b[39m{\u001b[39;00mletter_x\u001b[39m.\u001b[39mshape\u001b[39m}\u001b[39;00m\u001b[39m'\u001b[39m)\n\u001b[1;32m--> 146\u001b[0m \u001b[39mprint\u001b[39m(\u001b[39mf\u001b[39m\u001b[39m'\u001b[39m\u001b[39mWax: \u001b[39m\u001b[39m{\u001b[39;00mnp\u001b[39m.\u001b[39;49marray(\u001b[39mself\u001b[39;49m\u001b[39m.\u001b[39;49mWax)\u001b[39m.\u001b[39mshape\u001b[39m}\u001b[39;00m\u001b[39m'\u001b[39m)\n\u001b[0;32m    147\u001b[0m \u001b[39mprint\u001b[39m(\u001b[39mf\u001b[39m\u001b[39m'\u001b[39m\u001b[39mWaa: \u001b[39m\u001b[39m{\u001b[39;00mnp\u001b[39m.\u001b[39marray(\u001b[39mself\u001b[39m\u001b[39m.\u001b[39mWaa)\u001b[39m.\u001b[39mshape\u001b[39m}\u001b[39;00m\u001b[39m'\u001b[39m)\n\u001b[0;32m    148\u001b[0m \u001b[39mprint\u001b[39m(\u001b[39mf\u001b[39m\u001b[39m'\u001b[39m\u001b[39mWay: \u001b[39m\u001b[39m{\u001b[39;00mnp\u001b[39m.\u001b[39marray(\u001b[39mself\u001b[39m\u001b[39m.\u001b[39mWay)\u001b[39m.\u001b[39mshape\u001b[39m}\u001b[39;00m\u001b[39m'\u001b[39m)\n",
      "\u001b[1;31mValueError\u001b[0m: setting an array element with a sequence. The requested array has an inhomogeneous shape after 1 dimensions. The detected shape was (5,) + inhomogeneous part."
     ]
    }
   ],
   "source": [
    "from tqdm import tqdm \n",
    "\n",
    "for epoch in tqdm(range(num_epochs)):\n",
    "    \n",
    "    \n",
    "    # create the X inputs and Y labels\n",
    "    index = epoch % len(person_names)\n",
    "    X = [None] + [character_to_index[ch] for ch in person_names[index]] \n",
    "    Y = X[1:] + [character_to_index[\"\\n\"]]\n",
    "\n",
    "    # transform the input X and label Y into one hot enconding.\n",
    "    X = one_hot_encoding(X, input_dim)\n",
    "    Y = one_hot_encoding(Y, output_dim)\n",
    "    \n",
    "    # steps of the model\n",
    "    model.forward(X)\n",
    "    cost = model.loss(Y)\n",
    "    model.backward()\n",
    "    # clip gradients\n",
    "    model.clip(clip_value=1)\n",
    "    # optimize\n",
    "    model.optimise(optim)\n",
    "    \n",
    "\n",
    "    if epoch % 10000 == 0:\n",
    "        print (\"Cost after iteration %d: %f\" % (epoch, cost))\n",
    "        costs.append(cost)\n",
    "\n",
    "        print('Names created:', '\\n')\n",
    "        for i in range(4):\n",
    "            name = model.generate_names(index_to_character)\n",
    "            print(name)"
   ]
  },
  {
   "cell_type": "markdown",
   "metadata": {},
   "source": []
  },
  {
   "cell_type": "code",
   "execution_count": null,
   "metadata": {},
   "outputs": [],
   "source": []
  }
 ],
 "metadata": {
  "kernelspec": {
   "display_name": "rnn",
   "language": "python",
   "name": "python3"
  },
  "language_info": {
   "codemirror_mode": {
    "name": "ipython",
    "version": 3
   },
   "file_extension": ".py",
   "mimetype": "text/x-python",
   "name": "python",
   "nbconvert_exporter": "python",
   "pygments_lexer": "ipython3",
   "version": "3.11.4"
  },
  "orig_nbformat": 4
 },
 "nbformat": 4,
 "nbformat_minor": 2
}
